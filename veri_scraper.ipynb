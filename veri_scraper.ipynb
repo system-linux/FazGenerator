{
 "cells": [
  {
   "cell_type": "code",
   "execution_count": 1,
   "metadata": {},
   "outputs": [],
   "source": [
    "import requests\n",
    "from bs4 import BeautifulSoup\n",
    "import string"
   ]
  },
  {
   "cell_type": "markdown",
   "metadata": {},
   "source": [
    "ATASÖZÜ SCRAPER"
   ]
  },
  {
   "cell_type": "code",
   "execution_count": 82,
   "metadata": {},
   "outputs": [],
   "source": [
    "def remove_punctuation(input_string):\n",
    "    translator = str.maketrans(\"\", \"\", string.punctuation)\n",
    "    result = input_string.translate(translator)\n",
    "    return result"
   ]
  },
  {
   "cell_type": "code",
   "execution_count": 83,
   "metadata": {},
   "outputs": [],
   "source": [
    "all_texts = []\n",
    "for char in 'ABCDEFGHİJKLMNOPRSTUVYZ':\n",
    "    url = 'https://tr.wikiquote.org/wiki/T%C3%BCrk%C3%A7e_atas%C3%B6zleri/'\n",
    "\n",
    "    response = requests.get(url+char)\n",
    "    content = response.text\n",
    "\n",
    "    soup = BeautifulSoup(content, 'html.parser')\n",
    "\n",
    "    ul_tag = soup.find('ul')  # İlk <ul> etiketini bul\n",
    "    li_tags = ul_tag.find_all('li')  # İçindeki <li> etiketlerini bul\n",
    "\n",
    "    li_texts = [remove_punctuation(li.get_text().replace('Vikisözlük\\'e bağlantı', '')) for li in li_tags]\n",
    "    all_texts.extend(li_texts)"
   ]
  },
  {
   "cell_type": "code",
   "execution_count": 84,
   "metadata": {},
   "outputs": [
    {
     "name": "stdout",
     "output_type": "stream",
     "text": [
      "Metinler dosyaya kaydedildi.\n"
     ]
    }
   ],
   "source": [
    "# Metinleri dosyaya kaydetme\n",
    "with open('atasozleri.csv', 'w', encoding='utf-8') as file:\n",
    "    file.write(\",atasozleri\\n\")\n",
    "    for text in all_texts:\n",
    "        file.write(\"0,\\\"\"+text+\"\\\"\" + '\\n')\n",
    "print('Metinler dosyaya kaydedildi.')"
   ]
  },
  {
   "cell_type": "markdown",
   "metadata": {},
   "source": [
    "CORPUS SCRAPER"
   ]
  }
 ],
 "metadata": {
  "kernelspec": {
   "display_name": "Python 3",
   "language": "python",
   "name": "python3"
  },
  "language_info": {
   "codemirror_mode": {
    "name": "ipython",
    "version": 3
   },
   "file_extension": ".py",
   "mimetype": "text/x-python",
   "name": "python",
   "nbconvert_exporter": "python",
   "pygments_lexer": "ipython3",
   "version": "3.11.1"
  },
  "orig_nbformat": 4
 },
 "nbformat": 4,
 "nbformat_minor": 2
}
